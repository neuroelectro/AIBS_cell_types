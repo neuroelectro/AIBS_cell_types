{
 "cells": [
  {
   "cell_type": "markdown",
   "metadata": {},
   "source": [
    "# IPython notebook example of AIBS Cell Types ephys interaction\n",
    "\n",
    "The Allen Institute for Brain Science just released a new dataset on intracellular patch clamp electrophysiology recordings and morphology from mouse visual cortex neurons: [http://celltypes.brain-map.org](http://celltypes.brain-map.org). \n",
    "\n",
    "Here, I'm showing how to access and plot an example dataset in [neurodata-without-borders format](https://crcns.org/NWB). "
   ]
  },
  {
   "cell_type": "markdown",
   "metadata": {},
   "source": [
    "Let's download and analyze an [example dataset](http://celltypes.brain-map.org/mouse/experiment/electrophysiology/354190013) of a Scnn1a-Tg2-Cre Primary visual area, layer 5 neuron."
   ]
  },
  {
   "cell_type": "code",
   "execution_count": 1,
   "metadata": {
    "collapsed": false
   },
   "outputs": [],
   "source": [
    "dataset_id = 354190013  # internal ID that AIBS uses for this cell"
   ]
  },
  {
   "cell_type": "markdown",
   "metadata": {},
   "source": [
    "# Querying the cell types data and metadata using the AIBS SDK tool\n",
    "\n",
    "AIBS provides a [nice tool via a SDK](http://alleninstitute.github.io/AllenSDK/cell_types.html) for querying and working with the raw ephys dataset. Install it from [here using python's pip](http://alleninstitute.github.io/AllenSDK/install.html)"
   ]
  },
  {
   "cell_type": "code",
   "execution_count": 2,
   "metadata": {
    "collapsed": false
   },
   "outputs": [
    {
     "name": "stdout",
     "output_type": "stream",
     "text": [
      "Some basic metadata from this cell from the API\n",
      "Cell name:  Scnn1a-Tg2-Cre;Ai14(IVSCC)-176962.05.01.01\n",
      "Cell ID:  354190013\n",
      "Brain region:  Primary visual area, layer 5\n"
     ]
    }
   ],
   "source": [
    "# we can use the Allen SDK API to easily query the metadata for each of the recorded single cells\n",
    "from allensdk.api.queries.cell_types_api import CellTypesApi\n",
    "\n",
    "ct = CellTypesApi()\n",
    "\n",
    "# use the SDK API to get a list of single cells and corresponding metadata\n",
    "cell_metadata_list = ct.list_cells(require_reconstruction=False)\n",
    "\n",
    "# convert that list of cells' metadata to a python dictionary for easy access\n",
    "cell_meta_dict = {}\n",
    "for i in range(len(cell_metadata_list)):\n",
    "    cell_meta_dict[cell_metadata_list[i]['id']] = cell_metadata_list[i]\n",
    "\n",
    "# print some summary metadata for the cell\n",
    "print('Some basic metadata from this cell from the API')\n",
    "print('Cell name: ' , cell_meta_dict[dataset_id]['name'])\n",
    "print('Cell ID: ' , cell_meta_dict[dataset_id]['id'])\n",
    "print('Brain region: ' , cell_meta_dict[dataset_id]['structure']['name'])\n",
    "\n",
    "# uncomment this line to see all the metadata associated with each cell returned from the API\n",
    "#print cell_meta_dict[dataset_id]\n"
   ]
  },
  {
   "cell_type": "markdown",
   "metadata": {},
   "source": [
    "# Downloading the raw ephys data and morphology file for the cell\n",
    "\n",
    "We can also use the SDK to easily download the electrophysiology and morphology raw data files associated with this cell. [File description](http://alleninstitute.github.io/AllenSDK/cell_types.html).\n",
    "\n",
    "Downloading the ephys file takes a while since they're ~100 megabytes large..."
   ]
  },
  {
   "cell_type": "code",
   "execution_count": 3,
   "metadata": {
    "collapsed": false
   },
   "outputs": [],
   "source": [
    "# download and save the electrophysiology data for one cell\n",
    "\n",
    "raw_ephys_file_name = '%d_raw_data.nwb' % dataset_id\n",
    "ct.save_ephys_data(dataset_id, raw_ephys_file_name)\n",
    "\n",
    "# download and save the reconstruction for the same cell\n",
    "\n",
    "morphology_file_name = '%d_morphology.swc' % dataset_id\n",
    "ct.save_reconstruction(dataset_id, morphology_file_name)"
   ]
  },
  {
   "cell_type": "markdown",
   "metadata": {},
   "source": [
    "# Loading and working with the raw ephys dataset\n",
    "\n",
    "AIBS provides a [nice tool via a SDK](http://alleninstitute.github.io/AllenSDK/install.html) for working with the raw ephys dataset. \n",
    "\n",
    "It nicely abstracts away most of the complexity of working with the [neurodata-without-borders hdf5 file format](https://crcns.org/NWB)."
   ]
  },
  {
   "cell_type": "markdown",
   "metadata": {},
   "source": [
    "Now, let's query the [Allen Cell Types API](http://help.brain-map.org//display/celltypes/API) to get the file identifier corresponding to the raw electrophysiology dataset for this cell's recording. \n",
    "\n",
    "This first requires accessing the AIBS general metadata for this cell and parsing it to figure out where the raw ephys data file is stored."
   ]
  },
  {
   "cell_type": "code",
   "execution_count": 4,
   "metadata": {
    "collapsed": false
   },
   "outputs": [],
   "source": [
    "# load in and read in the NWB raw ephys file using the Allen SDK\n",
    "\n",
    "from allensdk.core.nwb_data_set import NwbDataSet\n",
    "data_set = NwbDataSet(raw_ephys_file_name)"
   ]
  },
  {
   "cell_type": "code",
   "execution_count": 5,
   "metadata": {
    "collapsed": false
   },
   "outputs": [],
   "source": [
    "# for a specific sweep, use the SDK functions to get the stimulus, response, samp_rate, etc\n",
    "\n",
    "# import some stuff\n",
    "%matplotlib inline\n",
    "import matplotlib.pyplot as plt\n",
    "import numpy as np\n",
    "\n",
    "sweep_number = 60\n",
    "sweep_data = data_set.get_sweep(sweep_number)\n",
    "\n",
    "# start/stop indices that exclude the experimental test pulse (if applicable)\n",
    "index_range = sweep_data['index_range']\n",
    "\n",
    "# stimulus is a numpy array in amps\n",
    "stimulus = sweep_data['stimulus'][index_range[0]:index_range[-1]]\n",
    "\n",
    "# response is a numpy array in volts\n",
    "response = sweep_data['response'][index_range[0]:index_range[-1]]*1000\n",
    "\n",
    "# sampling rate is in Hz\n",
    "sampling_rate = sweep_data['sampling_rate']\n",
    "\n",
    "# define some time points in seconds (i.e., convert to absolute time)\n",
    "time_pts = np.arange(0,len(stimulus)/sampling_rate,1./sampling_rate)"
   ]
  },
  {
   "cell_type": "code",
   "execution_count": 6,
   "metadata": {
    "collapsed": false
   },
   "outputs": [
    {
     "data": {
      "text/plain": [
       "<matplotlib.text.Text at 0x117bb3048>"
      ]
     },
     "execution_count": 6,
     "metadata": {},
     "output_type": "execute_result"
    },
    {
     "data": {
      "image/png": "[encoded data removed]",
      "text/plain": [
       "<matplotlib.figure.Figure at 0x109466eb8>"
      ]
     },
     "metadata": {},
     "output_type": "display_data"
    }
   ],
   "source": [
    "# plot the stimulus and the voltage response for the random trial\n",
    "plt.subplot(2,1,1)\n",
    "plt.plot(time_pts,stimulus)\n",
    "plt.ylabel('Stimulus (Amps)')\n",
    "plt.subplot(2,1,2)\n",
    "plt.plot(time_pts,response)\n",
    "plt.ylabel('membrane voltage (mV)')\n",
    "plt.xlabel('Time (s)')"
   ]
  },
  {
   "cell_type": "markdown",
   "metadata": {},
   "source": [
    "# Calculating ephys features from raw data file\n",
    "\n",
    "It's pretty amazing that AIBS makes so much raw ephys data is made available. Let's calculate a very simple ephys feature, the first spike peak voltage found at rheobase current injection."
   ]
  },
  {
   "cell_type": "code",
   "execution_count": 7,
   "metadata": {
    "collapsed": false
   },
   "outputs": [],
   "source": [
    "# the rheobase trial index for the Long Square Stimulus (figured out by looking at the .nwb file)\n",
    "rheobase_sweep_index = 46\n",
    "\n",
    "# get the data for this trial\n",
    "sweep_data = data_set.get_sweep(rheobase_sweep_index) \n",
    "stimulus = sweep_data['stimulus'][index_range[0]:index_range[-1]]\n",
    "response = sweep_data['response'][index_range[0]:index_range[-1]]*1000\n",
    "time_pts = np.arange(0,len(stimulus)/sampling_rate,1./sampling_rate)"
   ]
  },
  {
   "cell_type": "code",
   "execution_count": 8,
   "metadata": {
    "collapsed": false
   },
   "outputs": [
    {
     "data": {
      "text/plain": [
       "<matplotlib.text.Text at 0x130550898>"
      ]
     },
     "execution_count": 8,
     "metadata": {},
     "output_type": "execute_result"
    },
    {
     "data": {
      "image/png": "[encoded data removed]",
      "text/plain": [
       "<matplotlib.figure.Figure at 0x117bcb390>"
      ]
     },
     "metadata": {},
     "output_type": "display_data"
    }
   ],
   "source": [
    "# plot the stimulus and the voltage response for the rheobase trial\n",
    "plt.subplot(2,1,1)\n",
    "plt.plot(time_pts,stimulus)\n",
    "plt.ylabel('Stimulus (Amps)')\n",
    "plt.subplot(2,1,2)\n",
    "plt.plot(time_pts,response)\n",
    "plt.ylabel('membrane voltage (mV)')\n",
    "plt.xlabel('Time (s)')"
   ]
  },
  {
   "cell_type": "markdown",
   "metadata": {},
   "source": [
    "# Calculating the spike peak voltage from raw ephys data file \n",
    "\n",
    "Let's calculate the spike peak from the raw ephys data file, and then compare this to the stored, processed value encoded within the AIBS database by calling the AIBS API.\n",
    "\n",
    "The descriptions for how AIBS internally computes features from the ephys data is provided in the [documentation](http://help.brain-map.org/download/attachments/8323525/EphysOverview.pdf?version=1&modificationDate=1431448006652)"
   ]
  },
  {
   "cell_type": "code",
   "execution_count": 11,
   "metadata": {
    "collapsed": false
   },
   "outputs": [
    {
     "name": "stdout",
     "output_type": "stream",
     "text": [
      "spike peak at rheobase computed from raw ephys data file:\n",
      "22.0312504924 mV\n"
     ]
    }
   ],
   "source": [
    "# for this trial, calculate the voltage corresponding to the spike peak\n",
    "rheo_ap_peak_v = np.max(response) # really simple way to get the voltage of the spike peak\n",
    "rheo_ap_peak_index = np.argmax(response)\n",
    "rheo_ap_peak_t = time_pts[rheo_ap_peak_index]\n",
    "print(\"spike peak at rheobase computed from raw ephys data file:\")\n",
    "print(rheo_ap_peak_v, 'mV')"
   ]
  },
  {
   "cell_type": "markdown",
   "metadata": {},
   "source": [
    "# Pulling the spike peak voltage from the pre-calcuated value from the AIBS database"
   ]
  },
  {
   "cell_type": "code",
   "execution_count": 16,
   "metadata": {
    "collapsed": false
   },
   "outputs": [
    {
     "name": "stdout",
     "output_type": "stream",
     "text": [
      "spike peak at rheobase downloaded from AIBS API:\n",
      "22.0312519073486 mV\n"
     ]
    }
   ],
   "source": [
    "# libraries needed for querying a web url and working with returned json file\n",
    "try:\n",
    "    import urllib2\n",
    "except ImportError:\n",
    "    import urllib.request as urllib2\n",
    "import simplejson\n",
    "\n",
    "# let's now get the summarized data from the Allen API for the voltage for the spike peak\n",
    "summary_ephys_base_url = \"http://api.brain-map.org/api/v2/data/query.json?criteria=model::EphysFeature,rma::criteria,[specimen_id$eq%d]\"\n",
    "summary_ephys_url = summary_ephys_base_url % dataset_id # query url\n",
    "\n",
    "returned_url_string = urllib2.urlopen(summary_ephys_url).read() # excecutes a web query and gets returned json\n",
    "aibs_api_json = simplejson.loads(returned_url_string) # makes json object for computed ephys features for this cell\n",
    "\n",
    "# action potential peak voltage and time\n",
    "rheo_ap_peak_v_api = aibs_api_json[\"msg\"][0][\"peak_v_long_square\"]\n",
    "rheo_ap_peak_t_api = aibs_api_json[\"msg\"][0][\"peak_t_long_square\"]\n",
    "\n",
    "print(\"spike peak at rheobase downloaded from AIBS API:\")\n",
    "print(rheo_ap_peak_v_api, 'mV')"
   ]
  },
  {
   "cell_type": "markdown",
   "metadata": {},
   "source": [
    "# Querying NeuroElectro to compare the AIBS spike peak to prior reports\n",
    "\n",
    "Given that this is a layer 5 pyramidal cell (based on it's morphology), how does it compare to the summarized ephys from other layer 5 pyramidal cells which have been previously reported?\n",
    "\n",
    "Let's compare this cell to data from [NeuroElectro layer 5/6 pyramidal cells](http://www.neuroelectro.org/neuron/111/). But clearly, the correspondence between the two cell types isn't perfect..."
   ]
  },
  {
   "cell_type": "code",
   "execution_count": 18,
   "metadata": {
    "collapsed": false
   },
   "outputs": [
    {
     "name": "stdout",
     "output_type": "stream",
     "text": [
      "NeuroElectro estimated average spike peak:\n",
      "45.677713293650804 mV\n"
     ]
    }
   ],
   "source": [
    "# layer 5/6 pyramidal cell neuroelectro id\n",
    "neuroelectro_neuron_id = 111\n",
    "\n",
    "# neuroelectro spike threshold index\n",
    "ap_thr_ind = 6\n",
    "# neuroelectro spike threshold index\n",
    "ap_amp_ind = 4\n",
    "\n",
    "# query to get summary data for a neuron type from neuroelectro\n",
    "url_query = \"http://neuroelectro.org/api/1/nes/?n=%d\" % neuroelectro_neuron_id\n",
    "returned_url_string = urllib2.urlopen(url_query).read()\n",
    "neuroelectro_api_json = simplejson.loads(returned_url_string)\n",
    "\n",
    "ap_amp_mean = neuroelectro_api_json['objects'][ap_amp_ind]['value_mean']\n",
    "ap_thr_mean = neuroelectro_api_json['objects'][ap_thr_ind]['value_mean']\n",
    "ap_peak_mean = ap_amp_mean + ap_thr_mean\n",
    "\n",
    "print('NeuroElectro estimated average spike peak:')\n",
    "print(ap_peak_mean, 'mV')"
   ]
  },
  {
   "cell_type": "code",
   "execution_count": 19,
   "metadata": {
    "collapsed": false
   },
   "outputs": [],
   "source": [
    "# Comparing specific AIBS single-cell properties to mean properties compiled from NeuroElectro"
   ]
  },
  {
   "cell_type": "code",
   "execution_count": 21,
   "metadata": {
    "collapsed": false
   },
   "outputs": [
    {
     "name": "stdout",
     "output_type": "stream",
     "text": [
      "AIBS single cell data\n",
      "{'ap amp': 56.4375057220459, 'input resistance': 116.090224, 'membrane tau': 26.2489518949108, 'ap thr': -34.4062538146973, 'resting potential': -73.020389011928}\n",
      "NeuroElectro summary data for layer 5/6 pyramidal cells\n",
      "{'ap amp': 85.5503174603175, 'input resistance': 95.8547619047619, 'membrane tau': 14.5940277777778, 'ap thr': -39.8726041666667, 'resting potential': -67.1055769230769}\n"
     ]
    }
   ],
   "source": [
    "# look more into specific single-cell properties by getting them from the aggregated ephys param list\n",
    "rheo_ap_peak_v_api = aibs_api_json[\"msg\"][0][\"peak_v_long_square\"]\n",
    "input_resistance = aibs_api_json[\"msg\"][0][\"input_resistance_mohm\"]\n",
    "rheo_ap_thr_v_api = aibs_api_json[\"msg\"][0][\"threshold_v_long_square\"]\n",
    "rmp_api = aibs_api_json[\"msg\"][0][\"vrest\"]\n",
    "tau_api = aibs_api_json[\"msg\"][0][\"tau\"]\n",
    "rheo_ap_amp_v_api = rheo_ap_peak_v_api - rheo_ap_thr_v_api\n",
    "\n",
    "json_data = simplejson.loads(returned_url_string)\n",
    "\n",
    "ap_amp_mean = neuroelectro_api_json['objects'][ap_amp_ind]['value_mean']\n",
    "ap_thr_mean = neuroelectro_api_json['objects'][ap_thr_ind]['value_mean']\n",
    "rmp_mean = neuroelectro_api_json['objects'][2]['value_mean']\n",
    "ir_mean = neuroelectro_api_json['objects'][1]['value_mean']\n",
    "tau_mean = neuroelectro_api_json['objects'][3]['value_mean']\n",
    "\n",
    "single_cell_params = {'resting potential':rmp_api, 'input resistance': input_resistance, 'membrane tau' : tau_api, 'ap amp' : rheo_ap_amp_v_api, 'ap thr' : rheo_ap_thr_v_api}\n",
    "\n",
    "neuroelectro_params = {'resting potential':rmp_mean, 'input resistance': ir_mean, 'membrane tau' : tau_mean, 'ap amp' : ap_amp_mean, 'ap thr' : ap_thr_mean}\n",
    "\n",
    "print('AIBS single cell data')\n",
    "print(single_cell_params)\n",
    "\n",
    "print('NeuroElectro summary data for layer 5/6 pyramidal cells')\n",
    "print(neuroelectro_params)"
   ]
  }
 ],
 "metadata": {
  "kernelspec": {
   "display_name": "Python 3",
   "language": "python",
   "name": "python3"
  },
  "language_info": {
   "codemirror_mode": {
    "name": "ipython",
    "version": 3
   },
   "file_extension": ".py",
   "mimetype": "text/x-python",
   "name": "python",
   "nbconvert_exporter": "python",
   "pygments_lexer": "ipython3",
   "version": "3.4.1"
  }
 },
 "nbformat": 4,
 "nbformat_minor": 0
}
