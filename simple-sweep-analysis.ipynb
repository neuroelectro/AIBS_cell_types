{
 "cells": [
  {
   "cell_type": "code",
   "execution_count": 1,
   "metadata": {
    "collapsed": false
   },
   "outputs": [],
   "source": [
    "%matplotlib inline\n",
    "\n",
    "import os\n",
    "import sys\n",
    "from pprint import pprint\n",
    "\n",
    "import matplotlib.pyplot as plt\n",
    "import numpy as np\n",
    "\n",
    "from neuronunit.neuroelectro import NeuroElectroSummary"
   ]
  },
  {
   "cell_type": "code",
   "execution_count": 2,
   "metadata": {
    "collapsed": true
   },
   "outputs": [],
   "source": [
    "# Allen SDK API\n",
    "from allensdk.api.queries.cell_types_api import CellTypesApi\n",
    "from allensdk.ephys.extract_cell_features import get_square_stim_characteristics,\\\n",
    "                                                 get_sweep_from_nwb"
   ]
  },
  {
   "cell_type": "markdown",
   "metadata": {},
   "source": [
    "#### Get some cell and sweep metadata"
   ]
  },
  {
   "cell_type": "code",
   "execution_count": 3,
   "metadata": {
    "collapsed": true
   },
   "outputs": [],
   "source": [
    "dataset_id = 354190013  # Internal ID that AIBS uses for a particular Scnn1a-Tg2-Cre \n",
    "                        # Primary visual area, layer 5 neuron.\n",
    "ct = CellTypesApi()\n",
    "cmd = ct.get_cell(dataset_id) # Cell metadata"
   ]
  },
  {
   "cell_type": "code",
   "execution_count": 4,
   "metadata": {
    "collapsed": false
   },
   "outputs": [
    {
     "name": "stdout",
     "output_type": "stream",
     "text": [
      "Cell name: Scnn1a-Tg2-Cre;Ai14(IVSCC)-176962.05.01.01\n",
      "Cell ID: 354190013\n",
      "Brain region: Primary visual area, layer 5\n"
     ]
    }
   ],
   "source": [
    "# Print some summary metadata for the cell\n",
    "print(('Cell name: %s\\n' \n",
    "       'Cell ID: %s\\n'\n",
    "       'Brain region: %s' % (cmd['name'],cmd['id'],cmd['structure']['name'])))"
   ]
  },
  {
   "cell_type": "code",
   "execution_count": 5,
   "metadata": {
    "collapsed": false
   },
   "outputs": [
    {
     "name": "stdout",
     "output_type": "stream",
     "text": [
      "{'bridge_balance_mohm': 18.9255180358887,\n",
      " 'id': 396427442,\n",
      " 'leak_pa': 0.0,\n",
      " 'num_spikes': 1,\n",
      " 'peak_deflection': 0.0,\n",
      " 'post_noise_rms_mv': 0.0379615686833858,\n",
      " 'post_vm_mv': -73.3877792358398,\n",
      " 'pre_noise_rms_mv': 0.0390412472188473,\n",
      " 'pre_vm_mv': -73.2384948730469,\n",
      " 'slow_noise_rms_mv': 0.144496634602547,\n",
      " 'slow_vm_mv': -73.2384948730469,\n",
      " 'specimen_id': 354190013,\n",
      " 'stimulus_absolute_amplitude': 129.99999687846,\n",
      " 'stimulus_description': 'C1LSCOARSE150216[12]',\n",
      " 'stimulus_duration': 0.999995,\n",
      " 'stimulus_interval': 0.0,\n",
      " 'stimulus_name': 'Long Square',\n",
      " 'stimulus_relative_amplitude': 1.0,\n",
      " 'stimulus_start_time': 0.92,\n",
      " 'stimulus_units': 'pA',\n",
      " 'sweep_number': 46,\n",
      " 'vm_delta_mv': 0.149284362792969}\n"
     ]
    }
   ],
   "source": [
    "experiment_params = ct.get_ephys_sweeps(dataset_id)\n",
    "matching_sweeps = {} # Many sweeps are likely to have the desired parameters.  \n",
    "for sp in experiment_params:\n",
    "    if sp['stimulus_name']=='Long Square' and sp['num_spikes']>0:\n",
    "        # Add sweeps with a long square pulse and spikes\n",
    "        matching_sweeps[sp['sweep_number']] = sp \n",
    "\n",
    "# The sweep number of the first such sweep\n",
    "sweep_num = sorted(list(matching_sweeps.keys()))[0]\n",
    "pprint(matching_sweeps[sweep_num]) # Print sweep details"
   ]
  },
  {
   "cell_type": "markdown",
   "metadata": {},
   "source": [
    "#### Extract and plot some traces"
   ]
  },
  {
   "cell_type": "code",
   "execution_count": 6,
   "metadata": {
    "collapsed": false
   },
   "outputs": [],
   "source": [
    "# Download and the electrophysiology data for one cell, if it is not already downloaded\n",
    "raw_ephys_file_name = '%d_raw_data.nwb' % dataset_id\n",
    "if not os.path.isfile(raw_ephys_file_name):\n",
    "    ct.save_ephys_data(dataset_id, raw_ephys_file_name)"
   ]
  },
  {
   "cell_type": "code",
   "execution_count": 7,
   "metadata": {
    "collapsed": false
   },
   "outputs": [
    {
     "name": "stdout",
     "output_type": "stream",
     "text": [
      "{'stim_amp': 130.0, 'stim_dur': 1.0, 'stim_start': 1.02}\n"
     ]
    }
   ],
   "source": [
    "# Extract the stimulus parameters for this sweep\n",
    "vm, im, t = get_sweep_from_nwb('%d_raw_data.nwb' % dataset_id, sweep_num)\n",
    "sweep_info = {}\n",
    "sweep_info['stim_start'], sweep_info['stim_dur'], sweep_info['stim_amp'], start_idx, end_idx \\\n",
    "= get_square_stim_characteristics(im, t)\n",
    "pprint(sweep_info)"
   ]
  },
  {
   "cell_type": "code",
   "execution_count": 8,
   "metadata": {
    "collapsed": false
   },
   "outputs": [
    {
     "data": {
      "image/png": "[encoded data removed]",
      "text/plain": [
       "<matplotlib.figure.Figure at 0x109d115c0>"
      ]
     },
     "metadata": {},
     "output_type": "display_data"
    }
   ],
   "source": [
    "# Plot the stimulus and the response for this sweep\n",
    "fig,ax = plt.subplots(2,1,sharex=True,figsize=(10,4))\n",
    "for i,(y,label) in enumerate([(im,\"Stimulus (pA)\"),(vm,\"Response (mV)\"),]):\n",
    "    ax[i].plot(t,y)\n",
    "    ax[i].set_xlim(-0.01,3)\n",
    "    if i:\n",
    "        ax[i].set_xlabel(\"Time (s)\")\n",
    "    ax[i].set_ylim(y.min()-10,y.max()+10)\n",
    "    ax[i].set_ylabel(label)"
   ]
  },
  {
   "cell_type": "markdown",
   "metadata": {},
   "source": [
    "####Does the spike peak of this sweep match with the AIBS pre-calculated value?"
   ]
  },
  {
   "cell_type": "code",
   "execution_count": 9,
   "metadata": {
    "collapsed": false
   },
   "outputs": [
    {
     "name": "stdout",
     "output_type": "stream",
     "text": [
      "AIBS computed spike peak = 22.0 mV\n"
     ]
    }
   ],
   "source": [
    "# AIBS computed peak for this sweep.\n",
    "aibs_ap_peak_v = cmd['ephys_features'][0]['peak_v_long_square']\n",
    "print(\"AIBS computed spike peak = %.1f mV\" % aibs_ap_peak_v)"
   ]
  },
  {
   "cell_type": "code",
   "execution_count": 10,
   "metadata": {
    "collapsed": false
   },
   "outputs": [
    {
     "name": "stdout",
     "output_type": "stream",
     "text": [
      "Our sweep's spike peak = 22.0 mV\n"
     ]
    }
   ],
   "source": [
    "# Calculate the voltage at the spike peak for this sweep.  \n",
    "our_ap_peak_v = np.max(vm) # really simple way to get the voltage of the spike peak\n",
    "our_ap_peak_index = np.argmax(vm)\n",
    "our_ap_peak_t = t[our_ap_peak_index]\n",
    "print(\"Our sweep's spike peak = %.1f mV\" % our_ap_peak_v)"
   ]
  },
  {
   "cell_type": "markdown",
   "metadata": {},
   "source": [
    "####Does the rheobase for this experiment match with the AIBS pre-calculated value?"
   ]
  },
  {
   "cell_type": "code",
   "execution_count": 11,
   "metadata": {
    "collapsed": false
   },
   "outputs": [
    {
     "name": "stdout",
     "output_type": "stream",
     "text": [
      "AIBS calculated rheobase was 130.0 pA\n"
     ]
    }
   ],
   "source": [
    "# The AIBS value.  \n",
    "rheobase_sweep_id = cmd['ephys_features'][0]['rheobase_sweep_id']\n",
    "for sp in experiment_params:\n",
    "    if sp['id']==rheobase_sweep_id:\n",
    "        sweep_num = sp['sweep_number']\n",
    "        break\n",
    "\n",
    "print(\"AIBS calculated rheobase was %.1f pA\" % sp['stimulus_absolute_amplitude'])"
   ]
  },
  {
   "cell_type": "code",
   "execution_count": 12,
   "metadata": {
    "collapsed": false
   },
   "outputs": [
    {
     "name": "stdout",
     "output_type": "stream",
     "text": [
      "Our rheobase is 130.0 pA\n"
     ]
    }
   ],
   "source": [
    "# Our value.  \n",
    "sweeps_nums_with_one_spike = []\n",
    "smallest_pulse_size = np.inf\n",
    "for sp in experiment_params:\n",
    "    if sp['stimulus_name']=='Long Square' and sp['num_spikes']==1:\n",
    "        sweeps_nums_with_one_spike.append(sp['sweep_number'])\n",
    "        pulse_size = sp['stimulus_absolute_amplitude']\n",
    "        if pulse_size < smallest_pulse_size:\n",
    "            smallest_pulse_size = pulse_size\n",
    "print(\"Our rheobase is %.1f pA\" % smallest_pulse_size)"
   ]
  },
  {
   "cell_type": "markdown",
   "metadata": {},
   "source": [
    "####Compare with NeuroElectro"
   ]
  },
  {
   "cell_type": "code",
   "execution_count": 13,
   "metadata": {
    "collapsed": false
   },
   "outputs": [
    {
     "name": "stdout",
     "output_type": "stream",
     "text": [
      "Spike Peak: NEUROELECTRO 50.4 mV +/- 0.0 mV; AIBS 22.0 mV\n",
      "Spike Threshold: NEUROELECTRO -39.9 mV +/- 6.8 mV; AIBS -34.4 mV\n",
      "Input Resistance: NEUROELECTRO 95.9 MOhm +/- 56.9 MOhm; AIBS 116.1 MOhm\n"
     ]
    }
   ],
   "source": [
    "# Continue with other ephys parameters\n",
    "params = [('Spike Peak', 'peak_v_long_square', 'mV'), # Neuroelectro name, AIBS name. \n",
    "          ('Spike Threshold', 'threshold_v_long_square', 'mV'),\n",
    "          ('Input Resistance', 'input_resistance_mohm', 'MOhm')]\n",
    "\n",
    "for ne_name,aibs_name,units in params:\n",
    "    nes = NeuroElectroSummary(neuron={'name':'Neocortex Pyramidal Cell Layer 5-6'},\n",
    "                              ephysprop={'name':ne_name})\n",
    "    ne = nes.get_values(quiet=True)\n",
    "    ne_value = '%.1f %s +/- %.1f %s' % (ne['value_mean'],units,ne['value_sd'],units)\n",
    "    \n",
    "    aibs_value = '%.1f %s' % (cmd['ephys_features'][0][aibs_name],units)\n",
    "    \n",
    "    print('%s: NEUROELECTRO %s; AIBS %s' % (ne_name,ne_value,aibs_value))"
   ]
  }
 ],
 "metadata": {
  "kernelspec": {
   "display_name": "Python 3",
   "language": "python",
   "name": "python3"
  },
  "language_info": {
   "codemirror_mode": {
    "name": "ipython",
    "version": 3
   },
   "file_extension": ".py",
   "mimetype": "text/x-python",
   "name": "python",
   "nbconvert_exporter": "python",
   "pygments_lexer": "ipython3",
   "version": "3.4.1"
  }
 },
 "nbformat": 4,
 "nbformat_minor": 0
}
